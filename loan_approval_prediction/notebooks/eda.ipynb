{
 "cells": [
  {
   "cell_type": "code",
   "execution_count": null,
   "id": "9bff2736",
   "metadata": {
    "vscode": {
     "languageId": "plaintext"
    }
   },
   "outputs": [],
   "source": [
    "import pandas as pd\n",
    "import seaborn as sns\n",
    "import matplotlib.pyplot as plt\n",
    "\n",
    "df = pd.read_csv('../data/train.csv')\n",
    "\n",
    "print(df.info())\n",
    "print(df.describe())\n",
    "print(df['Loan_Status'].value_counts(normalize=True))\n",
    "\n",
    "# Visualize target distribution\n",
    "sns.countplot(x='Loan_Status', data=df)\n",
    "plt.title(\"Loan Approval Status\")\n",
    "plt.show()\n"
   ]
  }
 ],
 "metadata": {
  "language_info": {
   "name": "python"
  }
 },
 "nbformat": 4,
 "nbformat_minor": 5
}
